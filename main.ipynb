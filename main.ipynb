{
 "cells": [
  {
   "cell_type": "markdown",
   "metadata": {},
   "source": [
    "## Step - 1\n",
    "### spplitting the dataset into training and testing"
   ]
  },
  {
   "cell_type": "code",
   "execution_count": 5,
   "metadata": {},
   "outputs": [
    {
     "name": "stdout",
     "output_type": "stream",
     "text": [
      "Dataset split into 280 training, 60 testing, and 60 evaluation samples.\n"
     ]
    }
   ],
   "source": [
    "import json\n",
    "import random\n",
    "\n",
    "RANDOM_SEED = 42\n",
    "random.seed(RANDOM_SEED)\n",
    "\n",
    "with open(\"dataset/high_school_physics.json\", \"r\", encoding=\"utf-8\") as f:\n",
    "    data = json.load(f)\n",
    "\n",
    "random.shuffle(data)\n",
    "\n",
    "train_size = int(0.70 * len(data))\n",
    "test_size = int(0.15 * len(data))\n",
    "train_data = data[:train_size]\n",
    "test_data = data[train_size:train_size + test_size]\n",
    "eval_data = data[train_size + test_size:]\n",
    "\n",
    "# Save train, test, and evaluation sets\n",
    "with open(\"dataset/train.json\", \"w\", encoding=\"utf-8\") as f:\n",
    "    json.dump(train_data, f, indent=4)\n",
    "\n",
    "with open(\"dataset/test.json\", \"w\", encoding=\"utf-8\") as f:\n",
    "    json.dump(test_data, f, indent=4)\n",
    "\n",
    "with open(\"dataset/eval.json\", \"w\", encoding=\"utf-8\") as f:\n",
    "    json.dump(eval_data, f, indent=4)\n",
    "\n",
    "print(f\"Dataset split into {len(train_data)} training, {len(test_data)} testing, and {len(eval_data)} evaluation samples.\")"
   ]
  },
  {
   "cell_type": "code",
   "execution_count": 3,
   "metadata": {},
   "outputs": [
    {
     "name": "stdout",
     "output_type": "stream",
     "text": [
      "{'id': 261, 'question': 'A 10 Ω resistor is connected across a 15 V battery. What is the current flowing through the resistor?', 'subject': 'Electrostatics and Current Electricity', 'choices': ['0.5 A', '1 A', '1.5 A', '2 A'], 'answer': 'C', 'explanation': 'I = V/R = 15/10 = 1.5 A', 'dataset': 'high_school_physics'}\n",
      "{'id': 338, 'question': 'A force of 80 N is applied to a 8 kg block. What is the acceleration of the block?', 'subject': 'Mechanics', 'choices': ['5 m/s²', '10 m/s²', '15 m/s²', '20 m/s²'], 'answer': 'B', 'explanation': 'F = ma => a = F/m = 80/8 = 10 m/s²', 'dataset': 'high_school_physics'}\n"
     ]
    }
   ],
   "source": [
    "print(test_data[0])\n",
    "print(test_data[3])"
   ]
  },
  {
   "cell_type": "markdown",
   "metadata": {},
   "source": [
    "### Few-Shot Evaluation of Flan-T5 from Hugging Face "
   ]
  },
  {
   "cell_type": "code",
   "execution_count": null,
   "metadata": {},
   "outputs": [
    {
     "name": "stderr",
     "output_type": "stream",
     "text": [
      "Device set to use cuda:0\n"
     ]
    },
    {
     "name": "stdout",
     "output_type": "stream",
     "text": [
      "Zero-Shot Accuracy: 100.00%\n"
     ]
    }
   ],
   "source": [
    "from transformers import pipeline\n",
    "\n",
    "qa_pipeline = pipeline(\"text2text-generation\", model=\"google/flan-t5-large\")\n",
    "\n",
    "def evaluate_model(model, dataset):\n",
    "    correct = 0\n",
    "    total = len(dataset)\n",
    "\n",
    "    for item in dataset:\n",
    "        question = item[\"question\"]\n",
    "        idx = ord(item[\"answer\"])-ord(\"A\")\n",
    "        correct_answer = item[\"choices\"][idx]\n",
    "\n",
    "        prompt = f\"Give me the final answer without any explaination, just the couple of words with units that directly show the answer for the Question: {question} with Choices: {', '.join(item['choices'])} Answer:\"\n",
    "        prediction = model(prompt, max_length=20, truncation=True)[0][\"generated_text\"]\n",
    "\n",
    "        # print(correct_answer, prediction, item[\"id\"])\n",
    "        if correct_answer in prediction:\n",
    "          correct += 1\n",
    "\n",
    "    accuracy = (correct / total) * 100\n",
    "    return accuracy\n",
    "\n",
    "zero_shot_accuracy = evaluate_model(qa_pipeline, test_data)\n",
    "print(f\"Zero-Shot Accuracy: {zero_shot_accuracy:.2f}%\")\n"
   ]
  },
  {
   "cell_type": "markdown",
   "metadata": {},
   "source": []
  }
 ],
 "metadata": {
  "kernelspec": {
   "display_name": "Python 3",
   "language": "python",
   "name": "python3"
  },
  "language_info": {
   "codemirror_mode": {
    "name": "ipython",
    "version": 3
   },
   "file_extension": ".py",
   "mimetype": "text/x-python",
   "name": "python",
   "nbconvert_exporter": "python",
   "pygments_lexer": "ipython3",
   "version": "3.13.1"
  }
 },
 "nbformat": 4,
 "nbformat_minor": 2
}
